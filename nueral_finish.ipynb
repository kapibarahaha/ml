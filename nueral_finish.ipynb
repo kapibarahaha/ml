{
 "cells": [
  {
   "cell_type": "code",
   "execution_count": 2,
   "id": "3f51ee0b",
   "metadata": {},
   "outputs": [
    {
     "name": "stderr",
     "output_type": "stream",
     "text": [
      "C:\\Users\\ASUS\\AppData\\Local\\Temp\\ipykernel_5096\\2726527276.py:18: SettingWithCopyWarning: \n",
      "A value is trying to be set on a copy of a slice from a DataFrame.\n",
      "Try using .loc[row_indexer,col_indexer] = value instead\n",
      "\n",
      "See the caveats in the documentation: https://pandas.pydata.org/pandas-docs/stable/user_guide/indexing.html#returning-a-view-versus-a-copy\n",
      "  X['Color'] = color_encoder.fit_transform(X['Color'])\n",
      "C:\\Users\\ASUS\\AppData\\Local\\Temp\\ipykernel_5096\\2726527276.py:19: SettingWithCopyWarning: \n",
      "A value is trying to be set on a copy of a slice from a DataFrame.\n",
      "Try using .loc[row_indexer,col_indexer] = value instead\n",
      "\n",
      "See the caveats in the documentation: https://pandas.pydata.org/pandas-docs/stable/user_guide/indexing.html#returning-a-view-versus-a-copy\n",
      "  X['Smell'] = smell_encoder.fit_transform(X['Smell'])\n"
     ]
    },
    {
     "name": "stdout",
     "output_type": "stream",
     "text": [
      "Enter DO value: 5\n",
      "Enter Color value: yellow\n",
      "Enter Smell value: yes\n",
      "Enter TDS (ppm) value: 378\n",
      "Enter EC (microsecond/cm) value: 776\n",
      "Enter PH value: 6.27\n",
      "Enter Area value: 50\n",
      "Enter time value: 205.2\n",
      "Predicted Quality: Medium\n",
      "Predicted Fish: Few\n",
      "Accuracy for Quality: 1.0\n",
      "Accuracy for Fish: 1.0\n"
     ]
    },
    {
     "name": "stderr",
     "output_type": "stream",
     "text": [
      "C:\\Users\\ASUS\\anaconda3\\lib\\site-packages\\sklearn\\base.py:432: UserWarning: X has feature names, but MLPClassifier was fitted without feature names\n",
      "  warnings.warn(\n",
      "C:\\Users\\ASUS\\anaconda3\\lib\\site-packages\\sklearn\\base.py:432: UserWarning: X has feature names, but MLPClassifier was fitted without feature names\n",
      "  warnings.warn(\n"
     ]
    }
   ],
   "source": [
    "import pandas as pd\n",
    "from sklearn.preprocessing import StandardScaler, LabelEncoder\n",
    "from sklearn.neural_network import MLPClassifier\n",
    "from sklearn.model_selection import train_test_split\n",
    "from sklearn.metrics import accuracy_score\n",
    "\n",
    "# Load data from the Excel file\n",
    "data = pd.read_excel('DatasetEng3.xlsx')\n",
    "\n",
    "# Separate data into features (X) and labels (y)\n",
    "X = data[['DO', 'Color', 'Smell', 'TDS (ppm)', 'EC (microsecond/cm)', 'PH', 'Area', 'time']]\n",
    "y_quality = data['Quality']\n",
    "y_fish = data['fish']\n",
    "\n",
    "# Preprocess data\n",
    "color_encoder = LabelEncoder()\n",
    "smell_encoder = LabelEncoder()\n",
    "X['Color'] = color_encoder.fit_transform(X['Color'])\n",
    "X['Smell'] = smell_encoder.fit_transform(X['Smell'])\n",
    "scaler = StandardScaler()\n",
    "X = scaler.fit_transform(X)\n",
    "\n",
    "# Split data into training and testing sets\n",
    "X_train, X_test, y_train_quality, y_test_quality, y_train_fish, y_test_fish = train_test_split(X, y_quality, y_fish, test_size=0.3, random_state=42)\n",
    "\n",
    "# Create and train the Quality classifier\n",
    "quality_classifier = MLPClassifier(hidden_layer_sizes=(100, 50), max_iter=1000, random_state=42)\n",
    "quality_classifier.fit(X_train, y_train_quality)\n",
    "\n",
    "# Create and train the Fish classifier\n",
    "fish_classifier = MLPClassifier(hidden_layer_sizes=(100, 50), max_iter=1000, random_state=42)\n",
    "fish_classifier.fit(X_train, y_train_fish)\n",
    "\n",
    "user_input = {\n",
    "    'DO': float(input(\"Enter DO value: \")),\n",
    "    'Color': input(\"Enter Color value: \"),\n",
    "    'Smell': input(\"Enter Smell value: \"),\n",
    "    'TDS (ppm)': float(input(\"Enter TDS (ppm) value: \")),\n",
    "    'EC (microsecond/cm)': float(input(\"Enter EC (microsecond/cm) value: \")),\n",
    "    'PH': float(input(\"Enter PH value: \")),\n",
    "    'Area': float(input(\"Enter Area value: \")),\n",
    "    'time': float(input(\"Enter time value: \")),\n",
    "}\n",
    "\n",
    "# Encode Color and Smell from user input\n",
    "user_input['Color'] = color_encoder.transform([user_input['Color']])[0]\n",
    "user_input['Smell'] = smell_encoder.transform([user_input['Smell']])[0]\n",
    "\n",
    "# Create DataFrame from user input\n",
    "user_input_df = pd.DataFrame([user_input])\n",
    "\n",
    "# Make predictions\n",
    "predicted_quality = quality_classifier.predict(user_input_df)\n",
    "predicted_fish = fish_classifier.predict(user_input_df)\n",
    "\n",
    "# Print the predicted values for Quality and Fish\n",
    "print(f'Predicted Quality: {predicted_quality[0]}')\n",
    "print(f'Predicted Fish: {predicted_fish[0]}')\n",
    "\n",
    "# Make predictions on the test set\n",
    "y_pred_quality = quality_classifier.predict(X_test)\n",
    "y_pred_fish = fish_classifier.predict(X_test)\n",
    "\n",
    "# Calculate accuracy\n",
    "accuracy_quality = accuracy_score(y_test_quality, y_pred_quality)\n",
    "accuracy_fish = accuracy_score(y_test_fish, y_pred_fish)\n",
    "\n",
    "print(f'Accuracy for Quality: {accuracy_quality}')\n",
    "print(f'Accuracy for Fish: {accuracy_fish}')\n"
   ]
  },
  {
   "cell_type": "code",
   "execution_count": null,
   "id": "25473a10",
   "metadata": {},
   "outputs": [],
   "source": []
  }
 ],
 "metadata": {
  "kernelspec": {
   "display_name": "Python 3 (ipykernel)",
   "language": "python",
   "name": "python3"
  },
  "language_info": {
   "codemirror_mode": {
    "name": "ipython",
    "version": 3
   },
   "file_extension": ".py",
   "mimetype": "text/x-python",
   "name": "python",
   "nbconvert_exporter": "python",
   "pygments_lexer": "ipython3",
   "version": "3.10.9"
  }
 },
 "nbformat": 4,
 "nbformat_minor": 5
}
